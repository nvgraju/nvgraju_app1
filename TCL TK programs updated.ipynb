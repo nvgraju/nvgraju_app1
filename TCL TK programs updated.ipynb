{
 "cells": [
  {
   "cell_type": "markdown",
   "id": "476c0f73",
   "metadata": {},
   "source": [
    "# GUI Programming using Tk"
   ]
  },
  {
   "cell_type": "code",
   "execution_count": 2,
   "id": "7dd40594",
   "metadata": {},
   "outputs": [],
   "source": [
    "import tkinter as tk\n",
    "\n",
    "root = tk.Tk()\n",
    "root.mainloop()"
   ]
  },
  {
   "cell_type": "markdown",
   "id": "806cce2d",
   "metadata": {},
   "source": [
    "First, import the tkinter module as tk to the program\n",
    "\n",
    "Second, create an instance of the tk.Tk class that will create the application window\n",
    "\n",
    "Third, call the mainloop() method of the main window object\n",
    "\n",
    "The mainloop() keeps the window visible on the screen. \n",
    "\n",
    "\n",
    "If you don’t call the mainloop() method, the window will display and disappear immediately. \n",
    "\n",
    "\n",
    "It will be so fast that you may not see its appearance.\n",
    "\n",
    "Also, the mainloop() method keeps the window displaying and running until you close it.\n",
    "\n",
    "Typically, you place the call to the mainloop() method as the last statement in a Tkinter program, after creating the widgets.\n",
    "\n",
    "pack() method to add widgets to a window."
   ]
  },
  {
   "cell_type": "markdown",
   "id": "734fedc1",
   "metadata": {},
   "source": [
    "##### Changing window size and location"
   ]
  },
  {
   "attachments": {
    "Tkinter-Window-Geometry.png": {
     "image/png": "[encoded data removed]"
    }
   },
   "cell_type": "markdown",
   "id": "9b14208e",
   "metadata": {},
   "source": [
    "![Tkinter-Window-Geometry.png](attachment:Tkinter-Window-Geometry.png)"
   ]
  },
  {
   "cell_type": "markdown",
   "id": "9285a66c",
   "metadata": {},
   "source": [
    "The width is the window’s width in pixels.\n",
    "\n",
    "The height is the window’s height in pixels.\n",
    "\n",
    "The x is the window’s horizontal position.\n",
    "\n",
    "The y is the window’s vertical position. "
   ]
  },
  {
   "cell_type": "code",
   "execution_count": 4,
   "id": "b7a79f82",
   "metadata": {},
   "outputs": [],
   "source": [
    "import tkinter as tk\n",
    "\n",
    "root = tk.Tk()\n",
    "\n",
    "# place a label on the root window\n",
    "message = tk.Label(root, text=\"Hello, World!\")\n",
    "message.pack()\n",
    "\n",
    "root.title('Tkinter Window Demo')\n",
    "\n",
    "root.geometry('600x400+50+50')\n",
    "\n",
    "# keep the window displaying\n",
    "root.mainloop()"
   ]
  },
  {
   "cell_type": "markdown",
   "id": "e042a5ff",
   "metadata": {},
   "source": [
    "Size of the window to 600x400 and the position of the window to 50 pixels from the top and left of the screen"
   ]
  },
  {
   "cell_type": "code",
   "execution_count": null,
   "id": "fdb25439",
   "metadata": {},
   "outputs": [],
   "source": [
    "import tkinter as tk\n",
    "\n",
    "root = tk.Tk()\n",
    "root.title('Tkinter Window - Center')\n",
    "\n",
    "window_width = 300\n",
    "window_height = 200\n",
    "\n",
    "# get the screen dimension\n",
    "screen_width = root.winfo_screenwidth()\n",
    "screen_height = root.winfo_screenheight()\n",
    "\n",
    "# find the center point\n",
    "center_x = int(screen_width/2 - window_width / 2)\n",
    "center_y = int(screen_height/2 - window_height / 2)\n",
    "\n",
    "# set the position of the window to the center of the screen\n",
    "root.geometry(f'{window_width}x{window_height}+{center_x}+{center_y}')\n",
    "\n",
    "\n",
    "root.mainloop()"
   ]
  },
  {
   "cell_type": "markdown",
   "id": "3a54270c",
   "metadata": {},
   "source": [
    "First, get the screen width and height using the winfo_screenwidth() and winfo_screenheight() methods.\n",
    "\n",
    "Second, calculate the center coordinate based on the screen and window width and height.\n",
    "\n",
    "Finally, set the geometry for the root window using the geometry() method."
   ]
  },
  {
   "cell_type": "markdown",
   "id": "608b1ade",
   "metadata": {},
   "source": [
    "\n",
    "##### Button widgets represent a clickable item in the applications. \n",
    "\n",
    "Typically, you use a text or an image to display the action that will be performed when clicked."
   ]
  },
  {
   "cell_type": "markdown",
   "id": "ad8b1186",
   "metadata": {},
   "source": [
    "The Entry widget allows you to enter a sing-line text. In Tkinter, to create a textbox, you use the Entry widget\n",
    "\n",
    "To get the current text of a Entry widget as a string, you use the get() method\n",
    "\n",
    "Typically, you associate the current value of the textbox with a StringVar object."
   ]
  },
  {
   "cell_type": "markdown",
   "id": "17e2e234",
   "metadata": {},
   "source": [
    "A frame is a widget that displays as a simple rectangle. \n",
    "\n",
    "Typically, you use a frame to organize other widgets both visually and at the coding level."
   ]
  },
  {
   "attachments": {
    "Tkinter-Frame-Grid.png": {
     "image/png": "[encoded data removed]"
    }
   },
   "cell_type": "markdown",
   "id": "557026f5",
   "metadata": {},
   "source": [
    "![Tkinter-Frame-Grid.png](attachment:Tkinter-Frame-Grid.png)"
   ]
  },
  {
   "cell_type": "markdown",
   "id": "3a03e348",
   "metadata": {},
   "source": [
    "###### Label"
   ]
  },
  {
   "cell_type": "code",
   "execution_count": null,
   "id": "9b7042c3",
   "metadata": {},
   "outputs": [],
   "source": [
    "import tkinter as tk\n",
    "\n",
    "root = tk.Tk()\n",
    "\n",
    "w = tk.Label(root, text=\"Hello Tkinter!\")\n",
    "w.pack()\n",
    "\n",
    "root.mainloop()"
   ]
  },
  {
   "cell_type": "code",
   "execution_count": 7,
   "id": "d37c1714",
   "metadata": {},
   "outputs": [],
   "source": [
    "import tkinter as tk\n",
    "\n",
    "root = tk.Tk()\n",
    "logo = tk.PhotoImage(file=\"py.png\")\n",
    "\n",
    "w1 = tk.Label(root, image=logo).pack(side=\"right\")\n",
    "\n",
    "explanation = \"\"\"At present, only GIF and PPM/PGM formats are supported, but an interface \n",
    "exists to allow additional image file formats to be added easily.\"\"\"\n",
    "\n",
    "w2 = tk.Label(root, \n",
    "              justify=tk.LEFT,\n",
    "              padx = 10, \n",
    "              fg = \"light green\",bg = \"dark green\",\n",
    "              text=explanation).pack(side=\"left\")\n",
    "root.mainloop()"
   ]
  },
  {
   "cell_type": "markdown",
   "id": "c3f88546",
   "metadata": {},
   "source": [
    "###### Dynamical Content in a Label"
   ]
  },
  {
   "cell_type": "code",
   "execution_count": 8,
   "id": "a4697892",
   "metadata": {},
   "outputs": [],
   "source": [
    "import tkinter as tk\n",
    "\n",
    "counter = 0 \n",
    "def counter_label(label):\n",
    "  def count():\n",
    "    global counter\n",
    "    counter += 1\n",
    "    label.config(text=str(counter))\n",
    "    label.after(1000, count)\n",
    "  count()\n",
    " \n",
    " \n",
    "root = tk.Tk()\n",
    "root.title(\"Counting Seconds\")\n",
    "label = tk.Label(root, fg=\"green\")\n",
    "label.pack()\n",
    "counter_label(label)\n",
    "button = tk.Button(root, text='Stop', width=25, command=root.destroy)\n",
    "button.pack()\n",
    "root.mainloop()"
   ]
  },
  {
   "cell_type": "code",
   "execution_count": null,
   "id": "b7e770a6",
   "metadata": {},
   "outputs": [],
   "source": [
    "# To create a global variable inside a function, you can use the global keyword."
   ]
  },
  {
   "cell_type": "markdown",
   "id": "a4bd1443",
   "metadata": {},
   "source": [
    "###### Message widget \n",
    "\n",
    "The widget can be used to display short text messages."
   ]
  },
  {
   "cell_type": "code",
   "execution_count": 9,
   "id": "32d4596c",
   "metadata": {},
   "outputs": [],
   "source": [
    "import tkinter as tk\n",
    "master = tk.Tk()\n",
    "whatever_you_do = \"Data science is an interdisciplinary field that uses scientific methods, processes, algorithms and systems to extract or extrapolate knowledge and insights from noisy, structured and unstructured data, and apply knowledge from data across a broad range of application domains.\\n(Data Science)\"\n",
    "msg = tk.Message(master, text = whatever_you_do)\n",
    "msg.config(bg='lightgreen', font=('times', 24, 'italic'))\n",
    "msg.pack()\n",
    "tk.mainloop()"
   ]
  },
  {
   "cell_type": "markdown",
   "id": "98e727df",
   "metadata": {},
   "source": [
    "##### Button"
   ]
  },
  {
   "cell_type": "code",
   "execution_count": 14,
   "id": "470e0f24",
   "metadata": {},
   "outputs": [
    {
     "name": "stdout",
     "output_type": "stream",
     "text": [
      "Tkinter is easy to use!\n"
     ]
    }
   ],
   "source": [
    "import tkinter as tk\n",
    "    \n",
    "def write_slogan():\n",
    "    print(\"Tkinter is easy to use!\")\n",
    "\n",
    "root = tk.Tk()\n",
    "frame = tk.Frame(root)\n",
    "frame.pack()\n",
    "\n",
    "button = tk.Button(frame, \n",
    "                   text=\"QUIT\", \n",
    "                   fg=\"red\",\n",
    "                   command=root.destroy)\n",
    "button.pack(side=tk.LEFT)\n",
    "slogan = tk.Button(frame,\n",
    "                   text=\"Hello\",\n",
    "                   command=write_slogan)\n",
    "slogan.pack(side=tk.LEFT)\n",
    "\n",
    "root.mainloop()"
   ]
  },
  {
   "cell_type": "code",
   "execution_count": 12,
   "id": "253a2d9e",
   "metadata": {},
   "outputs": [],
   "source": [
    "import tkinter as tk\n",
    "\n",
    "counter = 0 \n",
    "def counter_label(label):\n",
    "  counter = 0\n",
    "  def count():\n",
    "    global counter\n",
    "    counter += 1\n",
    "    label.config(text=str(counter))\n",
    "    label.after(1000, count)\n",
    "  count()\n",
    " \n",
    " \n",
    "root = tk.Tk()\n",
    "root.title(\"Counting Seconds\")\n",
    "label = tk.Label(root, fg=\"dark green\")\n",
    "label.pack()\n",
    "counter_label(label)\n",
    "button = tk.Button(root, text='Stop', width=25, command=root.destroy)\n",
    "button.pack()\n",
    "root.mainloop()"
   ]
  },
  {
   "cell_type": "markdown",
   "id": "e1368fbc",
   "metadata": {},
   "source": [
    "###### Radio"
   ]
  },
  {
   "cell_type": "code",
   "execution_count": 15,
   "id": "dd4d268a",
   "metadata": {},
   "outputs": [
    {
     "name": "stdout",
     "output_type": "stream",
     "text": [
      "101\n",
      "102\n",
      "103\n",
      "104\n",
      "105\n",
      "101\n",
      "102\n"
     ]
    }
   ],
   "source": [
    "import tkinter as tk\n",
    "\n",
    "root = tk.Tk()\n",
    "\n",
    "v = tk.IntVar()\n",
    "v.set(1)  # initializing the choice, i.e. Python\n",
    "\n",
    "languages = [(\"Python\", 101), (\"Perl\", 102),(\"Java\", 103), (\"C++\", 104), (\"C\", 105)]\n",
    "\n",
    "def ShowChoice():\n",
    "    print(v.get())\n",
    "\n",
    "tk.Label(root, \n",
    "         text=\"\"\"Choose your favourite programming language:\"\"\",\n",
    "         justify = tk.LEFT,\n",
    "         padx = 20).pack()\n",
    "\n",
    "for language, val in languages:\n",
    "    tk.Radiobutton(root, \n",
    "                   text=language,\n",
    "                   padx = 20, \n",
    "                   variable=v, \n",
    "                   command=ShowChoice,\n",
    "                   value=val).pack(anchor=tk.W)\n",
    "\n",
    "\n",
    "root.mainloop()"
   ]
  },
  {
   "cell_type": "code",
   "execution_count": null,
   "id": "1e051392",
   "metadata": {},
   "outputs": [],
   "source": [
    "import tkinter as tk\n",
    "\n",
    "root = tk.Tk()\n",
    "\n",
    "v = tk.IntVar()\n",
    "v.set(1)  # initializing the choice, i.e. Python\n",
    "\n",
    "languages = [(\"Python\", 101), (\"Perl\", 102), (\"Java\", 103), (\"C++\", 104), (\"C\", 105)]\n",
    "\n",
    "def ShowChoice():\n",
    "    print(v.get())\n",
    "\n",
    "tk.Label(root, \n",
    "         text=\"\"\"Choose your favourite programming language:\"\"\",\n",
    "         justify = tk.LEFT,\n",
    "         padx = 20).pack()\n",
    "\n",
    "for language, val in languages:\n",
    "   \n",
    "     tk.Radiobutton(root, \n",
    "                  text=language,\n",
    "                  indicatoron = 0,\n",
    "                  width = 20,\n",
    "                  padx = 20, \n",
    "                  variable=v, \n",
    "                  command=ShowChoice,\n",
    "                  value=val).pack(anchor=tk.W)\n",
    "\n",
    "\n",
    "root.mainloop()"
   ]
  },
  {
   "cell_type": "markdown",
   "id": "fe88aaa9",
   "metadata": {},
   "source": [
    "##### Checkbox"
   ]
  },
  {
   "cell_type": "code",
   "execution_count": 16,
   "id": "09e1b064",
   "metadata": {},
   "outputs": [
    {
     "name": "stdout",
     "output_type": "stream",
     "text": [
      "male: 1,\n",
      "female: 1\n"
     ]
    }
   ],
   "source": [
    "from tkinter import *\n",
    "master = Tk()\n",
    "\n",
    "def var_states():\n",
    "   print(\"male: %d,\\nfemale: %d\" % (var1.get(), var2.get()))\n",
    "\n",
    "Label(master, text=\"Your sex:\").grid(row=0, sticky=W)\n",
    "var1 = IntVar()\n",
    "Checkbutton(master, text=\"male\", variable=var1).grid(row=1, sticky=W)\n",
    "var2 = IntVar()\n",
    "Checkbutton(master, text=\"female\", variable=var2).grid(row=2, sticky=W)\n",
    "Button(master, text='Quit', command=master.quit).grid(row=3, sticky=W, pady=4)\n",
    "Button(master, text='Show', command=var_states).grid(row=4, sticky=W, pady=4)\n",
    "mainloop()"
   ]
  },
  {
   "cell_type": "markdown",
   "id": "a4569111",
   "metadata": {},
   "source": [
    "##### Entry"
   ]
  },
  {
   "cell_type": "code",
   "execution_count": 1,
   "id": "482c8be1",
   "metadata": {},
   "outputs": [
    {
     "name": "stdout",
     "output_type": "stream",
     "text": [
      "First Name: Naresh\n",
      "Last Name: Tech\n"
     ]
    }
   ],
   "source": [
    "import tkinter as tk\n",
    "\n",
    "def show_entry_fields():\n",
    "    print(\"First Name: %s\\nLast Name: %s\" % (e1.get(), e2.get()))\n",
    "\n",
    "master = tk.Tk()\n",
    "tk.Label(master, \n",
    "         text=\"First Name\").grid(row=0)\n",
    "tk.Label(master, \n",
    "         text=\"Last Name\").grid(row=1)\n",
    "\n",
    "e1 = tk.Entry(master)\n",
    "e2 = tk.Entry(master)\n",
    "\n",
    "e1.grid(row=0, column=1)\n",
    "e2.grid(row=1, column=1)\n",
    "\n",
    "tk.Button(master, \n",
    "          text='Quit', \n",
    "          command=master.quit).grid(row=3, \n",
    "                                    column=0, \n",
    "                                    sticky=tk.W, \n",
    "                                    pady=4)\n",
    "tk.Button(master, \n",
    "          text='Show', command=show_entry_fields).grid(row=3, \n",
    "                                                       column=1, \n",
    "                                                       sticky=tk.W, \n",
    "                                                       pady=4)\n",
    "\n",
    "tk.mainloop()"
   ]
  },
  {
   "cell_type": "markdown",
   "id": "383c3dd3",
   "metadata": {},
   "source": [
    "##### Text Widget"
   ]
  },
  {
   "cell_type": "code",
   "execution_count": 2,
   "id": "1b6d61d8",
   "metadata": {},
   "outputs": [],
   "source": [
    "import tkinter as tk\n",
    "\n",
    "root = tk.Tk()\n",
    "S = tk.Scrollbar(root)\n",
    "T = tk.Text(root, height=6, width=50)\n",
    "S.pack(side=tk.RIGHT, fill=tk.Y)\n",
    "T.pack(side=tk.LEFT, fill=tk.Y)\n",
    "S.config(command=T.yview)\n",
    "T.config(yscrollcommand=S.set)\n",
    "quote = \"\"\"Data science is an interdisciplinary field that uses scientific methods, processes, algorithms and systems to extract or extrapolate knowledge and insights from noisy, structured and unstructured data, and apply knowledge from data across a broad range of application domains.\"\"\"\n",
    "T.insert(tk.END, quote)\n",
    "tk.mainloop()"
   ]
  },
  {
   "cell_type": "markdown",
   "id": "4eb93823",
   "metadata": {},
   "source": [
    "##### Dialog boxes"
   ]
  },
  {
   "cell_type": "markdown",
   "id": "624fc938",
   "metadata": {},
   "source": [
    "Tkinter (and TK of course) provides a set of dialogues (dialogs in American English spelling), which can be used to display message boxes, showing warning or errors, or widgets to select files and colours."
   ]
  },
  {
   "cell_type": "code",
   "execution_count": 3,
   "id": "f6cf9bee",
   "metadata": {},
   "outputs": [],
   "source": [
    "import tkinter as tk\n",
    "from tkinter import messagebox as mb\n",
    "\n",
    "def answer():\n",
    "    mb.showerror(\"Answer\", \"Sorry, no answer available\")\n",
    "\n",
    "def callback():\n",
    "    if mb.askyesno('Verify', 'Really quit?'):\n",
    "        mb.showwarning('Yes', 'Not yet implemented')\n",
    "    else:\n",
    "        mb.showinfo('No', 'Quit has been cancelled')\n",
    "\n",
    "tk.Button(text='Quit', command=callback).pack(fill=tk.X)\n",
    "tk.Button(text='Answer', command=answer).pack(fill=tk.X)\n",
    "tk.mainloop()"
   ]
  },
  {
   "cell_type": "code",
   "execution_count": null,
   "id": "f7197cbc",
   "metadata": {},
   "outputs": [],
   "source": [
    "import tkinter as tk\n",
    "from tkinter import filedialog as fd \n",
    "\n",
    "def callback():\n",
    "    name= fd.askopenfilename() \n",
    "    print(name)\n",
    "    \n",
    "errmsg = 'Error!'\n",
    "tk.Button(text='File Open', \n",
    "       command=callback).pack(fill=tk.X)\n",
    "tk.mainloop()"
   ]
  },
  {
   "attachments": {
    "layout.png": {
     "image/png": "[encoded data removed]"
    }
   },
   "cell_type": "markdown",
   "id": "07d5a644",
   "metadata": {},
   "source": [
    "![layout.png](attachment:layout.png)"
   ]
  },
  {
   "cell_type": "code",
   "execution_count": 4,
   "id": "b95eb515",
   "metadata": {},
   "outputs": [],
   "source": [
    "import tkinter as tk\n",
    "\n",
    "root = tk.Tk()\n",
    "\n",
    "w = tk.Label(root, text=\"Red Sun\", bg=\"red\", fg=\"white\")\n",
    "w.pack()\n",
    "w = tk.Label(root, text=\"Green Grass\", bg=\"green\", fg=\"black\")\n",
    "w.pack()\n",
    "w = tk.Label(root, text=\"Blue Sky\", bg=\"blue\", fg=\"white\")\n",
    "w.pack()\n",
    "\n",
    "tk.mainloop()"
   ]
  },
  {
   "cell_type": "code",
   "execution_count": 5,
   "id": "5ab21aaa",
   "metadata": {},
   "outputs": [],
   "source": [
    "import tkinter as tk\n",
    "\n",
    "root = tk.Tk()\n",
    "\n",
    "w = tk.Label(root, text=\"Red Sun\", bg=\"red\", fg=\"white\")\n",
    "w.pack(fill=tk.X)\n",
    "w = tk.Label(root, text=\"Green Grass\", bg=\"green\", fg=\"black\")\n",
    "w.pack(fill=tk.X)\n",
    "w = tk.Label(root, text=\"Blue Sky\", bg=\"blue\", fg=\"white\")\n",
    "w.pack(fill=tk.X)\n",
    "\n",
    "tk.mainloop()"
   ]
  },
  {
   "cell_type": "code",
   "execution_count": 6,
   "id": "986a0275",
   "metadata": {},
   "outputs": [],
   "source": [
    "import tkinter as tk\n",
    "\n",
    "root = tk.Tk()\n",
    "w = tk.Label(root, text=\"Red Sun\", bg=\"red\", fg=\"white\")\n",
    "w.pack(fill=tk.X, padx=10)\n",
    "w = tk.Label(root, text=\"Green Grass\", bg=\"green\", fg=\"black\")\n",
    "w.pack(fill=tk.X, padx=10)\n",
    "w = tk.Label(root, text=\"Blue Sky\", bg=\"blue\", fg=\"white\")\n",
    "w.pack(fill=tk.X, padx=10)\n",
    "tk.mainloop()"
   ]
  },
  {
   "cell_type": "code",
   "execution_count": null,
   "id": "fe5f3c9f",
   "metadata": {},
   "outputs": [],
   "source": [
    "import tkinter as tk\n",
    "\n",
    "root = tk.Tk()\n",
    "w = tk.Label(root, text=\"Red Sun\", bg=\"red\", fg=\"white\")\n",
    "w.pack(fill=tk.X, pady=10)\n",
    "w = tk.Label(root, text=\"Green Grass\", bg=\"green\", fg=\"black\")\n",
    "w.pack(fill= tk.X, pady=10)\n",
    "w = tk.Label(root, text=\"Blue Sky\", bg=\"blue\", fg=\"white\")\n",
    "w.pack(fill=tk.X, pady=10)\n",
    "tk.mainloop()"
   ]
  },
  {
   "cell_type": "code",
   "execution_count": null,
   "id": "49ef7d4c",
   "metadata": {},
   "outputs": [],
   "source": [
    "import tkinter as tk\n",
    "\n",
    "root = tk.Tk()\n",
    "\n",
    "w = tk.Label(root, text=\"red\", bg=\"red\", fg=\"white\")\n",
    "w.pack(padx=5, pady=10, side=tk.LEFT)\n",
    "w = tk.Label(root, text=\"green\", bg=\"green\", fg=\"black\")\n",
    "w.pack(padx=5, pady=20, side=tk.LEFT)\n",
    "w = tk.Label(root, text=\"blue\", bg=\"blue\", fg=\"white\")\n",
    "w.pack(padx=5, pady=20, side=tk.LEFT)\n",
    "tk.mainloop()"
   ]
  },
  {
   "cell_type": "code",
   "execution_count": 7,
   "id": "3f59c6ee",
   "metadata": {},
   "outputs": [],
   "source": [
    "import tkinter as tk\n",
    "import random\n",
    "    \n",
    "root = tk.Tk()\n",
    "# width x height + x_offset + y_offset:\n",
    "root.geometry(\"170x200+30+30\") \n",
    "     \n",
    "languages = ['Python','Perl','C++','Java','Tcl/Tk']\n",
    "labels = range(5)\n",
    "for i in range(5):\n",
    "   ct = [random.randrange(256) for x in range(3)]\n",
    "   brightness = int(round(0.299*ct[0] + 0.587*ct[1] + 0.114*ct[2]))\n",
    "   ct_hex = \"%02x%02x%02x\" % tuple(ct)\n",
    "   bg_colour = '#' + \"\".join(ct_hex)\n",
    "   l = tk.Label(root, \n",
    "                text=languages[i], \n",
    "                fg='White' if brightness < 120 else 'Black', \n",
    "                bg=bg_colour)\n",
    "   l.place(x = 20, y = 30 + i*30, width=120, height=25)\n",
    "          \n",
    "root.mainloop()"
   ]
  },
  {
   "cell_type": "markdown",
   "id": "db60fd8c",
   "metadata": {},
   "source": [
    "### EXAMPLE 1"
   ]
  },
  {
   "cell_type": "code",
   "execution_count": 8,
   "id": "f7e94e83",
   "metadata": {},
   "outputs": [],
   "source": [
    "from tkinter import *\n",
    "\n",
    "def calculate():\n",
    "    temp = int(entry.get())\n",
    "    temp = 9/5*temp+32\n",
    "    output_label.configure(text = 'Converted: {:.1f}'.format(temp))\n",
    "    entry.delete(0,END)\n",
    "\n",
    "root = Tk()\n",
    "\n",
    "message_label = Label(text='Enter a temperature',font=('Verdana', 16))\n",
    "\n",
    "output_label = Label(font=('Verdana', 16))\n",
    "\n",
    "entry = Entry(font=('Verdana', 16), width=4)\n",
    "\n",
    "calc_button = Button(text='Ok', font=('Verdana', 16),command=calculate)\n",
    "\n",
    "message_label.grid(row=0, column=0)\n",
    "\n",
    "entry.grid(row=0, column=1)\n",
    "\n",
    "calc_button.grid(row=0, column=2)\n",
    "\n",
    "output_label.grid(row=1, column=0, columnspan=3)\n",
    "\n",
    "mainloop()"
   ]
  },
  {
   "cell_type": "markdown",
   "id": "e3422a31",
   "metadata": {},
   "source": [
    "##### Example 2"
   ]
  },
  {
   "cell_type": "code",
   "execution_count": 24,
   "id": "c910fb9e",
   "metadata": {},
   "outputs": [],
   "source": [
    "import tkinter\n",
    "import random\n",
    "from random import randint\n",
    "from tkinter import Button\n",
    "import matplotlib.pyplot as plt\n",
    "import numpy as np"
   ]
  },
  {
   "cell_type": "code",
   "execution_count": 25,
   "id": "a1d43ddd",
   "metadata": {},
   "outputs": [],
   "source": [
    "root = tkinter.Tk()\n",
    "root.title(\"Are you smart!!\")\n",
    "root.geometry(\"400x200\")\n",
    "correct_result=0\n",
    "correct_answers=0\n",
    "total_questions=0\n",
    "incorrect_answer=0"
   ]
  },
  {
   "cell_type": "code",
   "execution_count": 26,
   "id": "148de326",
   "metadata": {},
   "outputs": [],
   "source": [
    "def evaluate(event):\n",
    "    global correct_result\n",
    "    global user_input\n",
    "    user_input_given = user_input.get()\n",
    "    if str(user_input_given) == str(correct_result):\n",
    "        global correct_answers\n",
    "        correct_answers += 1\n",
    "        nextQuestion()\n",
    "    else:\n",
    "        global incorrect_answer\n",
    "        incorrect_answer += 1\n",
    "        result = tkinter.Label(root, text=\"Hard Luck!!nThe correct answer is : \"+str(correct_result), font=('Helvetica', 10))\n",
    "        result.pack()\n",
    "        nextQuestion()\n",
    "        root.after(1500, result.destroy)"
   ]
  },
  {
   "cell_type": "code",
   "execution_count": 27,
   "id": "f0773b64",
   "metadata": {},
   "outputs": [],
   "source": [
    "def nextQuestion():\n",
    "    user_input.focus_set()\n",
    "    user_input.delete(0, tkinter.END)\n",
    "    global first_num\n",
    "    first_num = randint(1,15)\n",
    "    global second_num\n",
    "    second_num = randint(1,15)\n",
    "    global character\n",
    "    character = random.choice(\"+-*\")\n",
    "    global correct_result\n",
    "    if character == '*':\n",
    "        correct_result = first_num*second_num\n",
    "    if character == '+':\n",
    "        correct_result = first_num+second_num\n",
    "    if character == '-':\n",
    "        correct_result = first_num-second_num\n",
    "    text=\"Enter the value of \"+str(first_num)+\" \"+character+\" \"+str(second_num)\n",
    "    global total_questions\n",
    "    total_questions += 1\n",
    "    user_question.config(text=text)\n",
    "    user_question.pack()"
   ]
  },
  {
   "cell_type": "code",
   "execution_count": 28,
   "id": "62ea448c",
   "metadata": {},
   "outputs": [],
   "source": [
    "def exitThis():\n",
    "    print(\"Total Questions attended : \"+str(total_questions))\n",
    "    print(\"Total Correct Answers : \"+str(correct_answers))\n",
    "    print(\"Total Incorrect Answers : \"+str(incorrect_answer))\n",
    "    root.destroy()"
   ]
  },
  {
   "cell_type": "code",
   "execution_count": 29,
   "id": "efbee858",
   "metadata": {},
   "outputs": [],
   "source": [
    "first_num = randint(1,15)\n",
    "second_num = randint(1,15)\n",
    "character = random.choice(\"+-*\")\n",
    "if character == '*':\n",
    "    correct_result = first_num*second_num\n",
    "if character == '+':\n",
    "    correct_result = first_num+second_num\n",
    "if character == '-':\n",
    "    correct_result = first_num-second_num"
   ]
  },
  {
   "cell_type": "code",
   "execution_count": 30,
   "id": "43eca76c",
   "metadata": {},
   "outputs": [],
   "source": [
    "user_question = tkinter.Label(root, text=\"Enter the value of \"+str(first_num)+\" \"+character+\" \"+str(second_num), font=('Helvetica', 10))\n",
    "user_question.pack()\n",
    "user_input = tkinter.Entry(root)\n",
    "root.bind('<Return>',evaluate)\n",
    "user_input.pack()\n",
    "user_input.focus_set()\n",
    "exitButton = Button(root, text=\"EXIT and Check Result\", command=exitThis)\n",
    "exitButton.pack(side=\"top\", expand=True, padx=4, pady=4)"
   ]
  },
  {
   "cell_type": "code",
   "execution_count": 31,
   "id": "568332e5",
   "metadata": {},
   "outputs": [
    {
     "name": "stdout",
     "output_type": "stream",
     "text": [
      "Total Questions attended : 8\n",
      "Total Correct Answers : 6\n",
      "Total Incorrect Answers : 2\n"
     ]
    }
   ],
   "source": [
    "root.mainloop()"
   ]
  },
  {
   "cell_type": "code",
   "execution_count": 32,
   "id": "ae827d23",
   "metadata": {},
   "outputs": [
    {
     "data": {
      "text/plain": [
       "Text(0.5, 1.0, 'Your Result!')"
      ]
     },
     "execution_count": 32,
     "metadata": {},
     "output_type": "execute_result"
    },
    {
     "data": {
      "image/png": "[encoded data removed]",
      "text/plain": [
       "<Figure size 640x480 with 1 Axes>"
      ]
     },
     "metadata": {},
     "output_type": "display_data"
    }
   ],
   "source": [
    "#Plotting the bar graph\n",
    "plt.figure(0)\n",
    "objects = ('Total Number of Questions','Correct Answers','Incorrect answers')\n",
    "y_pos = np.arange(len(objects))\n",
    "stats = [total_questions,correct_answers,incorrect_answer]\n",
    "plt.bar(y_pos, stats, align='center', alpha=0.5)\n",
    "plt.xticks(y_pos, objects)\n",
    "plt.ylabel('Numbers')\n",
    "plt.title('Your Result!')"
   ]
  },
  {
   "cell_type": "code",
   "execution_count": 33,
   "id": "a400f29e",
   "metadata": {},
   "outputs": [
    {
     "data": {
      "image/png": "[encoded data removed]",
      "text/plain": [
       "<Figure size 640x480 with 1 Axes>"
      ]
     },
     "metadata": {},
     "output_type": "display_data"
    }
   ],
   "source": [
    "#Plotting the pie chart\n",
    "if str(total_questions) != \"0\":\n",
    "     plt.figure(1)\n",
    "labels = 'Correct Answers','Incorrect answers'\n",
    "sizes = [correct_answers,incorrect_answer]\n",
    "colors = ['green', 'red']\n",
    "explode = (0.1, 0) # explode 1st slice\n",
    "plt.pie(sizes, explode=explode, labels=labels, colors=colors,\n",
    "autopct='%1.1f%%', shadow=True, startangle=140)\n",
    "plt.axis('equal')\n",
    "\n",
    "#Show both the graphs\n",
    "plt.show()"
   ]
  },
  {
   "cell_type": "code",
   "execution_count": null,
   "id": "d1ca2f75",
   "metadata": {},
   "outputs": [],
   "source": []
  },
  {
   "cell_type": "code",
   "execution_count": 34,
   "id": "75cb5261",
   "metadata": {},
   "outputs": [],
   "source": [
    "import tkinter as tk\n",
    "import sqlite3\n",
    "from tkinter import messagebox\n",
    "\n",
    "class DatabaseApp:\n",
    "    def __init__(self, root):\n",
    "        self.root = root\n",
    "        self.root.title(\"SQLite Database Example\")\n",
    "\n",
    "        # Create a database or connect to an existing one\n",
    "        self.conn = sqlite3.connect(\"testdb.db\")\n",
    "        self.cursor = self.conn.cursor()\n",
    "\n",
    "        # Create a table if it doesn't exist\n",
    "        self.cursor.execute('''CREATE TABLE IF NOT EXISTS tasks (id INTEGER PRIMARY KEY, task TEXT)''')\n",
    "        self.conn.commit()\n",
    "\n",
    "        # Create GUI elements\n",
    "        self.task_label = tk.Label(root, text=\"Task:\")\n",
    "        self.task_label.pack()\n",
    "\n",
    "        self.task_entry = tk.Entry(root)\n",
    "        self.task_entry.pack()\n",
    "\n",
    "        self.add_button = tk.Button(root, text=\"Add Task\", command=self.add_task)\n",
    "        self.add_button.pack()\n",
    "\n",
    "        self.task_listbox = tk.Listbox(root)\n",
    "        self.task_listbox.pack()\n",
    "\n",
    "        self.delete_button = tk.Button(root, text=\"Delete Task\", command=self.delete_task)\n",
    "        self.delete_button.pack()\n",
    "\n",
    "        self.load_tasks()\n",
    "\n",
    "    def add_task(self):\n",
    "        task = self.task_entry.get()\n",
    "        if task:\n",
    "            self.cursor.execute(\"INSERT INTO tasks (task) VALUES (?)\", (task,))\n",
    "            self.conn.commit()\n",
    "            self.load_tasks()\n",
    "            self.task_entry.delete(0, tk.END)\n",
    "        else:\n",
    "            messagebox.showwarning(\"Warning\", \"Please input a task.\")\n",
    "\n",
    "    def load_tasks(self):\n",
    "        self.task_listbox.delete(0, tk.END)\n",
    "        self.cursor.execute(\"SELECT * FROM tasks\")\n",
    "        tasks = self.cursor.fetchall()\n",
    "        for row in tasks:\n",
    "            self.task_listbox.insert(tk.END, row[1])\n",
    "\n",
    "    def delete_task(self):\n",
    "        selected_task = self.task_listbox.get(tk.ACTIVE)\n",
    "        if selected_task:\n",
    "            self.cursor.execute(\"DELETE FROM tasks WHERE task=?\", (selected_task,))\n",
    "            self.conn.commit()\n",
    "            self.load_tasks()\n",
    "        else:\n",
    "            messagebox.showwarning(\"Warning\", \"Please select a task to delete.\")\n",
    "\n",
    "    def __del__(self):\n",
    "        self.conn.close()\n",
    "\n",
    "if __name__ == \"__main__\":\n",
    "    root = tk.Tk()\n",
    "    app = DatabaseApp(root)\n",
    "    root.mainloop()"
   ]
  },
  {
   "cell_type": "code",
   "execution_count": null,
   "id": "2b9cd0ab",
   "metadata": {},
   "outputs": [],
   "source": []
  }
 ],
 "metadata": {
  "kernelspec": {
   "display_name": "Python 3 (ipykernel)",
   "language": "python",
   "name": "python3"
  },
  "language_info": {
   "codemirror_mode": {
    "name": "ipython",
    "version": 3
   },
   "file_extension": ".py",
   "mimetype": "text/x-python",
   "name": "python",
   "nbconvert_exporter": "python",
   "pygments_lexer": "ipython3",
   "version": "3.11.4"
  }
 },
 "nbformat": 4,
 "nbformat_minor": 5
}
